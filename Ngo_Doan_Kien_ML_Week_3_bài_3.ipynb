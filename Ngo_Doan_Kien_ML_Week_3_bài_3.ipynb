{
 "cells": [
  {
   "cell_type": "code",
   "execution_count": 2,
   "id": "5c06d8af",
   "metadata": {},
   "outputs": [
    {
     "name": "stdout",
     "output_type": "stream",
     "text": [
      "[ 3.64594310e+01 -1.08011188e-01  4.64203853e-02  2.05585940e-02\n",
      "  2.68672959e+00 -1.77665832e+01  3.80985921e+00  6.92223550e-04\n",
      " -1.47556452e+00  3.06048997e-01 -1.23345745e-02 -9.52745731e-01\n",
      "  9.31166861e-03 -5.24757551e-01]\n"
     ]
    },
    {
     "data": {
      "image/png": "[encoded data removed]",
      "text/plain": [
       "<Figure size 432x288 with 1 Axes>"
      ]
     },
     "metadata": {
      "needs_background": "light"
     },
     "output_type": "display_data"
    }
   ],
   "source": [
    "import numpy as np\n",
    "import matplotlib.pyplot as plt\n",
    "import pandas as pd\n",
    "\n",
    "\n",
    "def add_intercept(x):\n",
    "    new_x = np.c_[np.ones(x.shape[0]), x]\n",
    "    return new_x\n",
    "\n",
    "\n",
    "def load_dataset(file_path):\n",
    "    column_names = ['CRIM', 'ZN', 'INDUS', 'CHAS', 'NOX', 'RM', 'AGE', 'DIS', 'RAD', 'TAX', 'PTRATIO', 'B', 'LSTAT',\n",
    "                    'MEDV']\n",
    "\n",
    "    df = pd.read_csv(file_path, header=None, delimiter=r\"\\s+\", names=column_names)\n",
    "    n = len(df.columns)\n",
    "    x_data = df.iloc[:, list(range(n - 1))]\n",
    "    y_data = df.iloc[:, n - 1]\n",
    "    x = np.array(x_data)\n",
    "    y = np.array(y_data)\n",
    "    return x, y\n",
    "\n",
    "\n",
    "def plot(x, y, theta, save_path):\n",
    "    # Plot the dataset\n",
    "    plt.figure()\n",
    "    plt.style.use('seaborn-whitegrid')\n",
    "\n",
    "    # Plot the prediction values\n",
    "    margin = (np.max(y) - np.min(y)) * 0.2\n",
    "    x_pred = add_intercept(x)\n",
    "    y_pred = x_pred.dot(theta)\n",
    "    plt.plot(y, y_pred, 'm^', linewidth=2)\n",
    "\n",
    "    plt.xlim(np.min(y) - margin, np.max(y) + margin)\n",
    "    plt.ylim(np.min(y_pred) - margin, np.max(y_pred) + margin)\n",
    "    plt.xlabel('Actual y value')\n",
    "    plt.ylabel('Predicted y value')\n",
    "    plt.savefig(save_path)\n",
    "    plt.show()\n",
    "\n",
    "\n",
    "class LinearRegression2:\n",
    "    def __init__(self):\n",
    "        self.theta = None\n",
    "\n",
    "    def fit(self, x, y, learning_rate):\n",
    "        x = add_intercept(x)\n",
    "        m, n = x.shape\n",
    "        self.theta = np.zeros(n)\n",
    "\n",
    "        # Newton Raphson\n",
    "        while True:\n",
    "            last_theta = np.copy(self.theta)\n",
    "            h_x = x.dot(self.theta)\n",
    "            gradient = x.T.dot(y - h_x)\n",
    "            hessian = x.T.dot(x)\n",
    "\n",
    "            #Update theta\n",
    "            self.theta += learning_rate / m * np.linalg.inv(hessian).dot(gradient)\n",
    "\n",
    "            # Terminate\n",
    "            eps = np.linalg.norm(self.theta - last_theta, ord=1)\n",
    "            if eps < 10**(-7):\n",
    "                break\n",
    "\n",
    "        return self.theta\n",
    "\n",
    "    def predict(self, inp):\n",
    "        return self.theta.T.dot(add_intercept(inp))\n",
    "\n",
    "\n",
    "x, y = load_dataset(file_path=r\"housing.csv\")\n",
    "model_1 = LinearRegression2()\n",
    "theta = model_1.fit(x, y, learning_rate=0.5)\n",
    "print(theta)\n",
    "plot(x, y, theta, save_path=\"Problem3.png\")\n",
    "\n",
    "\n",
    "\n"
   ]
  },
  {
   "cell_type": "code",
   "execution_count": null,
   "id": "57c3ebb5",
   "metadata": {},
   "outputs": [],
   "source": []
  }
 ],
 "metadata": {
  "kernelspec": {
   "display_name": "Python 3 (ipykernel)",
   "language": "python",
   "name": "python3"
  },
  "language_info": {
   "codemirror_mode": {
    "name": "ipython",
    "version": 3
   },
   "file_extension": ".py",
   "mimetype": "text/x-python",
   "name": "python",
   "nbconvert_exporter": "python",
   "pygments_lexer": "ipython3",
   "version": "3.9.7"
  }
 },
 "nbformat": 4,
 "nbformat_minor": 5
}
