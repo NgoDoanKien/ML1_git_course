{
 "cells": [
  {
   "cell_type": "code",
   "execution_count": 4,
   "id": "604879c8",
   "metadata": {},
   "outputs": [],
   "source": [
    "import numpy as np \n",
    "import pandas as pd\n",
    "import matplotlib.pyplot as plt"
   ]
  },
  {
   "cell_type": "code",
   "execution_count": 5,
   "id": "15613c6a",
   "metadata": {
    "scrolled": true
   },
   "outputs": [
    {
     "data": {
      "text/plain": [
       "array([[  30.    ,  448.524 ],\n",
       "       [  32.4138,  509.248 ],\n",
       "       [  34.8276,  535.104 ],\n",
       "       [  37.2414,  551.432 ],\n",
       "       [  39.6552,  623.418 ],\n",
       "       [  42.069 ,  625.992 ],\n",
       "       [  44.4828,  655.248 ],\n",
       "       [  46.8966,  701.377 ],\n",
       "       [  49.3103,  748.918 ],\n",
       "       [  51.7241,  757.881 ],\n",
       "       [  54.1379,  831.004 ],\n",
       "       [  56.5517,  855.409 ],\n",
       "       [  58.9655,  866.707 ],\n",
       "       [  61.3793,  902.545 ],\n",
       "       [  63.7931,  952.261 ],\n",
       "       [  66.2069,  995.531 ],\n",
       "       [  68.6207, 1069.78  ],\n",
       "       [  71.0345, 1074.42  ],\n",
       "       [  73.4483, 1103.88  ],\n",
       "       [  75.8621, 1138.69  ],\n",
       "       [  78.2759, 1153.13  ],\n",
       "       [  80.6897, 1240.27  ],\n",
       "       [  83.1034, 1251.9   ],\n",
       "       [  85.5172, 1287.97  ],\n",
       "       [  87.931 , 1320.47  ],\n",
       "       [  90.3448, 1374.92  ],\n",
       "       [  92.7586, 1410.16  ],\n",
       "       [  95.1724, 1469.69  ],\n",
       "       [  97.5862, 1478.54  ],\n",
       "       [ 100.    , 1515.28  ]])"
      ]
     },
     "execution_count": 5,
     "metadata": {},
     "output_type": "execute_result"
    }
   ],
   "source": [
    "data = pd.read_csv('data_linear.csv').values\n",
    "data"
   ]
  },
  {
   "cell_type": "code",
   "execution_count": 6,
   "id": "aaf39a09",
   "metadata": {},
   "outputs": [],
   "source": [
    "x = data[:, 0].reshape(-1, 1)\n",
    "y = data[:, 1].reshape(-1, 1)"
   ]
  },
  {
   "cell_type": "code",
   "execution_count": 8,
   "id": "f1389ea6",
   "metadata": {},
   "outputs": [
    {
     "data": {
      "text/plain": [
       "array([[ 30.    ],\n",
       "       [ 32.4138],\n",
       "       [ 34.8276],\n",
       "       [ 37.2414],\n",
       "       [ 39.6552],\n",
       "       [ 42.069 ],\n",
       "       [ 44.4828],\n",
       "       [ 46.8966],\n",
       "       [ 49.3103],\n",
       "       [ 51.7241],\n",
       "       [ 54.1379],\n",
       "       [ 56.5517],\n",
       "       [ 58.9655],\n",
       "       [ 61.3793],\n",
       "       [ 63.7931],\n",
       "       [ 66.2069],\n",
       "       [ 68.6207],\n",
       "       [ 71.0345],\n",
       "       [ 73.4483],\n",
       "       [ 75.8621],\n",
       "       [ 78.2759],\n",
       "       [ 80.6897],\n",
       "       [ 83.1034],\n",
       "       [ 85.5172],\n",
       "       [ 87.931 ],\n",
       "       [ 90.3448],\n",
       "       [ 92.7586],\n",
       "       [ 95.1724],\n",
       "       [ 97.5862],\n",
       "       [100.    ]])"
      ]
     },
     "execution_count": 8,
     "metadata": {},
     "output_type": "execute_result"
    }
   ],
   "source": [
    "x"
   ]
  },
  {
   "cell_type": "code",
   "execution_count": 9,
   "id": "bb3454a5",
   "metadata": {},
   "outputs": [
    {
     "name": "stdout",
     "output_type": "stream",
     "text": [
      "w =  [[-7.06426865]\n",
      " [15.2110908 ]]\n"
     ]
    }
   ],
   "source": [
    "one = np.ones((data.shape[0], 1))\n",
    "xbar = np.concatenate((one, x), axis = 1)\n",
    "A = np.dot(xbar.T, xbar)\n",
    "b = np.dot(xbar.T, y)\n",
    "w = np.dot(np.linalg.pinv(A), b) #Giả nghịch đảo\n",
    "print('w = ', w)"
   ]
  },
  {
   "cell_type": "code",
   "execution_count": 10,
   "id": "0a2d4362",
   "metadata": {},
   "outputs": [],
   "source": [
    "w_0 = w[0][0]\n",
    "w_1 = w[1][0]\n",
    "x0 = np.linspace(30, 100, 2, endpoint=True)\n",
    "y0 = w_0 + w_1*x0"
   ]
  },
  {
   "cell_type": "code",
   "execution_count": 11,
   "id": "9a58532f",
   "metadata": {},
   "outputs": [
    {
     "data": {
      "image/png": "[encoded data removed]",
      "text/plain": [
       "<Figure size 432x288 with 1 Axes>"
      ]
     },
     "metadata": {
      "needs_background": "light"
     },
     "output_type": "display_data"
    }
   ],
   "source": [
    "plt.plot(x.T, y.T, 'ro')     # data \n",
    "plt.plot(x0, y0)             # the fitting line\n",
    "plt.xlabel('Mét vuông')\n",
    "plt.ylabel('Giá')\n",
    "plt.show()"
   ]
  },
  {
   "cell_type": "code",
   "execution_count": 12,
   "id": "699f7c5a",
   "metadata": {},
   "outputs": [],
   "source": [
    "y1 = w_1*50 + w_0\n",
    "y2 = w_1*100 + w_0\n",
    "y3 = w_1*150 + w_0"
   ]
  },
  {
   "cell_type": "code",
   "execution_count": 16,
   "id": "2e288d88",
   "metadata": {},
   "outputs": [
    {
     "name": "stdout",
     "output_type": "stream",
     "text": [
      "price of 50m^2 house : 753.4902713382857\n"
     ]
    }
   ],
   "source": [
    "print('price of 50m^2 house :', y1)"
   ]
  },
  {
   "cell_type": "code",
   "execution_count": 17,
   "id": "f1c74dc0",
   "metadata": {},
   "outputs": [
    {
     "name": "stdout",
     "output_type": "stream",
     "text": [
      "price of 100m^2 house : 1514.0448113217851\n"
     ]
    }
   ],
   "source": [
    "print('price of 100m^2 house :', y2)"
   ]
  },
  {
   "cell_type": "code",
   "execution_count": 18,
   "id": "a3877a79",
   "metadata": {},
   "outputs": [
    {
     "name": "stdout",
     "output_type": "stream",
     "text": [
      "price of 150m^2 house : 2274.5993513052845\n"
     ]
    }
   ],
   "source": [
    "print('price of 150m^2 house :', y3)"
   ]
  },
  {
   "cell_type": "code",
   "execution_count": null,
   "id": "21cf1396",
   "metadata": {},
   "outputs": [],
   "source": []
  }
 ],
 "metadata": {
  "kernelspec": {
   "display_name": "Python 3 (ipykernel)",
   "language": "python",
   "name": "python3"
  },
  "language_info": {
   "codemirror_mode": {
    "name": "ipython",
    "version": 3
   },
   "file_extension": ".py",
   "mimetype": "text/x-python",
   "name": "python",
   "nbconvert_exporter": "python",
   "pygments_lexer": "ipython3",
   "version": "3.9.7"
  }
 },
 "nbformat": 4,
 "nbformat_minor": 5
}
